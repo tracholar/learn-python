{
 "metadata": {
  "name": "",
  "signature": "sha256:61ea1398ff06dd0df1653b7d93432ccc72d64bd6bdef4d9d4bd1bfaaed21a743"
 },
 "nbformat": 3,
 "nbformat_minor": 0,
 "worksheets": [
  {
   "cells": [
    {
     "cell_type": "code",
     "collapsed": false,
     "input": [
      "# coding:utf-8\n",
      "\n",
      "import jieba, jieba.analyse, os\n",
      "\n",
      "files = os.listdir('./news')\n",
      "keyword = dict()\n",
      "for f in files:\n",
      "    news = open('./news/' + f).read()\n",
      "    try:\n",
      "        news = news.decode('utf-8')\n",
      "    except UnicodeDecodeError:\n",
      "        news = news.decode('gbk','ignore')\n",
      "\n",
      "    # word_list = jieba.cut(news)\n",
      "    # print ' '.join(word_list)\n",
      "\n",
      "    keyword[f] = dict()\n",
      "    for x in jieba.analyse.extract_tags(news,topK=20,withWeight=True):\n",
      "        keyword[f][x[0]] = x[1]\n"
     ],
     "language": "python",
     "metadata": {},
     "outputs": [
      {
       "output_type": "stream",
       "stream": "stderr",
       "text": [
        "Building prefix dict from D:\\Program Files\\Python27\\lib\\site-packages\\jieba\\dict.txt ...\n"
       ]
      },
      {
       "output_type": "stream",
       "stream": "stderr",
       "text": [
        "DEBUG:jieba:Building prefix dict from D:\\Program Files\\Python27\\lib\\site-packages\\jieba\\dict.txt ...\n"
       ]
      },
      {
       "output_type": "stream",
       "stream": "stderr",
       "text": [
        "Loading model from cache c:\\users\\tracho~1\\appdata\\local\\temp\\jieba.cache\n"
       ]
      },
      {
       "output_type": "stream",
       "stream": "stderr",
       "text": [
        "DEBUG:jieba:Loading model from cache c:\\users\\tracho~1\\appdata\\local\\temp\\jieba.cache\n"
       ]
      },
      {
       "output_type": "stream",
       "stream": "stderr",
       "text": [
        "Loading model cost 2.84100008011 seconds.\n"
       ]
      },
      {
       "output_type": "stream",
       "stream": "stderr",
       "text": [
        "DEBUG:jieba:Loading model cost 2.84100008011 seconds.\n"
       ]
      },
      {
       "output_type": "stream",
       "stream": "stderr",
       "text": [
        "Prefix dict has been built succesfully.\n"
       ]
      },
      {
       "output_type": "stream",
       "stream": "stderr",
       "text": [
        "DEBUG:jieba:Prefix dict has been built succesfully.\n"
       ]
      }
     ],
     "prompt_number": 42
    },
    {
     "cell_type": "code",
     "collapsed": false,
     "input": [
      "len(keyword)"
     ],
     "language": "python",
     "metadata": {},
     "outputs": [
      {
       "metadata": {},
       "output_type": "pyout",
       "prompt_number": 50,
       "text": [
        "166"
       ]
      }
     ],
     "prompt_number": 50
    },
    {
     "cell_type": "code",
     "collapsed": false,
     "input": [
      "from sklearn.feature_extraction import DictVectorizer"
     ],
     "language": "python",
     "metadata": {},
     "outputs": [],
     "prompt_number": 51
    },
    {
     "cell_type": "code",
     "collapsed": false,
     "input": [
      "ks = []\n",
      "kws = []\n",
      "for k,kw in keyword.items():\n",
      "    ks.append(k)\n",
      "    kws.append(kw)\n",
      "vec = DictVectorizer()\n",
      "vec_array=vec.fit_transform(kws)"
     ],
     "language": "python",
     "metadata": {},
     "outputs": [],
     "prompt_number": 52
    },
    {
     "cell_type": "code",
     "collapsed": false,
     "input": [
      "shape(vec_array)"
     ],
     "language": "python",
     "metadata": {},
     "outputs": [
      {
       "metadata": {},
       "output_type": "pyout",
       "prompt_number": 54,
       "text": [
        "(166, 2239)"
       ]
      }
     ],
     "prompt_number": 54
    },
    {
     "cell_type": "code",
     "collapsed": false,
     "input": [
      "from sklearn.cluster import KMeans\n",
      "from sklearn.decomposition import PCA\n",
      "clt = KMeans(5)\n",
      "pca = PCA(50)\n",
      "feat = pca.fit_transform(vec_array.toarray())\n",
      "clt.fit(feat)\n",
      "cls = clt.predict(feat)\n",
      "ks = keyword.keys()\n",
      "fs = open('res.txt','w')\n",
      "for j in range(5):\n",
      "    print j\n",
      "    for i in range(len(ks)):\n",
      "        if cls[i]==j:\n",
      "            fs.write( '%s\\t\\t\\t%d\\n' % (ks[i].decode('gbk').encode('utf-8'), cls[i]) )\n",
      "fs.close()"
     ],
     "language": "python",
     "metadata": {},
     "outputs": [
      {
       "output_type": "stream",
       "stream": "stdout",
       "text": [
        "0\n",
        "1\n",
        "2\n",
        "3\n",
        "4\n"
       ]
      }
     ],
     "prompt_number": 69
    },
    {
     "cell_type": "code",
     "collapsed": false,
     "input": [
      "import nltk\n",
      "from nltk.corpus import movie_reviews"
     ],
     "language": "python",
     "metadata": {},
     "outputs": [],
     "prompt_number": 2
    },
    {
     "cell_type": "code",
     "collapsed": false,
     "input": [
      "documents = [(list(movie_reviews.words(fileid)), category) for category in movie_reviews.categories() for fileid in  movie_reviews.fileids(category)]"
     ],
     "language": "python",
     "metadata": {},
     "outputs": [],
     "prompt_number": 9
    },
    {
     "cell_type": "code",
     "collapsed": false,
     "input": [
      "' '.join(documents[0][0])"
     ],
     "language": "python",
     "metadata": {},
     "outputs": [
      {
       "metadata": {},
       "output_type": "pyout",
       "prompt_number": 20,
       "text": [
        "u'plot : two teen couples go to a church party , drink and then drive . they get into an accident . one of the guys dies , but his girlfriend continues to see him in her life , and has nightmares . what \\' s the deal ? watch the movie and \" sorta \" find out . . . critique : a mind - fuck movie for the teen generation that touches on a very cool idea , but presents it in a very bad package . which is what makes this review an even harder one to write , since i generally applaud films which attempt to break the mold , mess with your head and such ( lost highway & memento ) , but there are good and bad ways of making all types of films , and these folks just didn \\' t snag this one correctly . they seem to have taken this pretty neat concept , but executed it terribly . so what are the problems with the movie ? well , its main problem is that it \\' s simply too jumbled . it starts off \" normal \" but then downshifts into this \" fantasy \" world in which you , as an audience member , have no idea what \\' s going on . there are dreams , there are characters coming back from the dead , there are others who look like the dead , there are strange apparitions , there are disappearances , there are a looooot of chase scenes , there are tons of weird things that happen , and most of it is simply not explained . now i personally don \\' t mind trying to unravel a film every now and then , but when all it does is give me the same clue over and over again , i get kind of fed up after a while , which is this film \\' s biggest problem . it \\' s obviously got this big secret to hide , but it seems to want to hide it completely until its final five minutes . and do they make things entertaining , thrilling or even engaging , in the meantime ? not really . the sad part is that the arrow and i both dig on flicks like this , so we actually figured most of it out by the half - way point , so all of the strangeness after that did start to make a little bit of sense , but it still didn \\' t the make the film all that more entertaining . i guess the bottom line with movies like this is that you should always make sure that the audience is \" into it \" even before they are given the secret password to enter your world of understanding . i mean , showing melissa sagemiller running away from visions for about 20 minutes throughout the movie is just plain lazy ! ! okay , we get it . . . there are people chasing her and we don \\' t know who they are . do we really need to see it over and over again ? how about giving us different scenes offering further insight into all of the strangeness going down in the movie ? apparently , the studio took this film away from its director and chopped it up themselves , and it shows . there might \\' ve been a pretty decent teen mind - fuck movie in here somewhere , but i guess \" the suits \" decided that turning it into a music video with little edge , would make more sense . the actors are pretty good for the most part , although wes bentley just seemed to be playing the exact same character that he did in american beauty , only in a new neighborhood . but my biggest kudos go out to sagemiller , who holds her own throughout the entire film , and actually has you feeling her character \\' s unraveling . overall , the film doesn \\' t stick because it doesn \\' t entertain , it \\' s confusing , it rarely excites and it feels pretty redundant for most of its runtime , despite a pretty cool ending and explanation to all of the craziness that came before it . oh , and by the way , this is not a horror or teen slasher flick . . . it \\' s just packaged to look that way because someone is apparently assuming that the genre is still hot with the kids . it also wrapped production two years ago and has been sitting on the shelves ever since . whatever . . . skip it ! where \\' s joblo coming from ? a nightmare of elm street 3 ( 7 / 10 ) - blair witch 2 ( 7 / 10 ) - the crow ( 9 / 10 ) - the crow : salvation ( 4 / 10 ) - lost highway ( 10 / 10 ) - memento ( 10 / 10 ) - the others ( 9 / 10 ) - stir of echoes ( 8 / 10 )'"
       ]
      }
     ],
     "prompt_number": 20
    },
    {
     "cell_type": "code",
     "collapsed": false,
     "input": [
      "def document_features(doc):\n",
      "    doc_words = set(doc)\n",
      "    features = {}\n",
      "    for word in word_features:\n",
      "        features[word] = (word in doc_words)\n",
      "    return features"
     ],
     "language": "python",
     "metadata": {},
     "outputs": [],
     "prompt_number": 28
    },
    {
     "cell_type": "code",
     "collapsed": false,
     "input": [
      "all_words = nltk.FreqDist(w.lower() for w in movie_reviews.words())"
     ],
     "language": "python",
     "metadata": {},
     "outputs": [],
     "prompt_number": 22
    },
    {
     "cell_type": "code",
     "collapsed": false,
     "input": [
      "word_features=all_words.keys()[:2000]"
     ],
     "language": "python",
     "metadata": {},
     "outputs": [],
     "prompt_number": 23
    },
    {
     "cell_type": "code",
     "collapsed": false,
     "input": [
      "document_features(documents[0][0])"
     ],
     "language": "python",
     "metadata": {},
     "outputs": [
      {
       "metadata": {},
       "output_type": "pyout",
       "prompt_number": 29,
       "text": [
        "{u'.': True,\n",
        " u'15th': False,\n",
        " u'1600s': False,\n",
        " u'18th': False,\n",
        " u'2293': False,\n",
        " u'24th': False,\n",
        " u'33': False,\n",
        " u'48th': False,\n",
        " u'90210': False,\n",
        " u'911': False,\n",
        " u'======': False,\n",
        " u'\\\\': False,\n",
        " u'_2001_': False,\n",
        " u'_dragon_': False,\n",
        " u'_escape': False,\n",
        " u'_eve': False,\n",
        " u'_i_know_what_you_did_last_summer_': False,\n",
        " u'_people_': False,\n",
        " u'_seven_nights_': False,\n",
        " u'_titus_andronicus_': False,\n",
        " u'_would_': False,\n",
        " u'aaaaaaaahhhh': False,\n",
        " u'aatish': False,\n",
        " u'abandons': False,\n",
        " u'abbots': False,\n",
        " u'abbott': False,\n",
        " u'abbreviated': False,\n",
        " u'abject': False,\n",
        " u'abnormally': False,\n",
        " u'aboard': False,\n",
        " u'abortion': False,\n",
        " u'aboslutely': False,\n",
        " u'abound': False,\n",
        " u'absense': False,\n",
        " u'absolute': False,\n",
        " u'absorbs': False,\n",
        " u'absurdities': False,\n",
        " u'abused': False,\n",
        " u'abuser': False,\n",
        " u'abuses': False,\n",
        " u'academia': False,\n",
        " u'academic': False,\n",
        " u'accommodations': False,\n",
        " u'accomplished': False,\n",
        " u'accomplishes': False,\n",
        " u'acted': False,\n",
        " u'activists': False,\n",
        " u'adapt': False,\n",
        " u'adaptable': False,\n",
        " u'adaptation': False,\n",
        " u'address': False,\n",
        " u'admire': False,\n",
        " u'admired': False,\n",
        " u'admirer': False,\n",
        " u'admires': False,\n",
        " u'admitedly': False,\n",
        " u'adroit': False,\n",
        " u'advertisement': False,\n",
        " u'advertisment': False,\n",
        " u'affairs': False,\n",
        " u'affiliated': False,\n",
        " u'afi': False,\n",
        " u'aggressivelly': False,\n",
        " u'agitation': False,\n",
        " u'ahern': False,\n",
        " u'ahmed': False,\n",
        " u'ahmet': False,\n",
        " u'aissa': False,\n",
        " u'alarming': False,\n",
        " u'alexandre': False,\n",
        " u'alice': False,\n",
        " u'alienbusting': False,\n",
        " u'allah': False,\n",
        " u'allan': False,\n",
        " u'allegra': False,\n",
        " u'allie': False,\n",
        " u'almasy': False,\n",
        " u'also': True,\n",
        " u'altogether': False,\n",
        " u'amalgamation': False,\n",
        " u'amarcord': False,\n",
        " u'ambiguities': False,\n",
        " u'ambling': False,\n",
        " u'americanised': False,\n",
        " u'amiss': False,\n",
        " u'amoeba': False,\n",
        " u'amphibians': False,\n",
        " u'amuck': False,\n",
        " u'amusements': False,\n",
        " u'anette': False,\n",
        " u'anonymously': False,\n",
        " u'antagonizes': False,\n",
        " u'anthesis': False,\n",
        " u'anthropologists': False,\n",
        " u'antichrist': False,\n",
        " u'antidote': False,\n",
        " u'antwerp': False,\n",
        " u'apace': False,\n",
        " u'appropriately': False,\n",
        " u'apropos': False,\n",
        " u'arkin': False,\n",
        " u'arlington': False,\n",
        " u'arousal': False,\n",
        " u'arrow': True,\n",
        " u'askew': False,\n",
        " u'assigns': False,\n",
        " u'assimilation': False,\n",
        " u'associating': False,\n",
        " u'assuring': False,\n",
        " u'atlantic': False,\n",
        " u'atlantis': False,\n",
        " u'attendance': False,\n",
        " u'attenuated': False,\n",
        " u'attorney': False,\n",
        " u'audaciously': False,\n",
        " u'aughra': False,\n",
        " u'aussies': False,\n",
        " u'automats': False,\n",
        " u'averse': False,\n",
        " u'awaiting': False,\n",
        " u'awake': False,\n",
        " u'awards': False,\n",
        " u'awestruck': False,\n",
        " u'awkwardness': False,\n",
        " u'ayla': False,\n",
        " u'babe': False,\n",
        " u'babs': False,\n",
        " u'baby': False,\n",
        " u'bacri': False,\n",
        " u'bakersfield': False,\n",
        " u'balaban': False,\n",
        " u'ballet': False,\n",
        " u'ballhaus': False,\n",
        " u'ballisitic': False,\n",
        " u'balsan': False,\n",
        " u'bamboo': False,\n",
        " u'bandaras': False,\n",
        " u'bandits': False,\n",
        " u'bannister': False,\n",
        " u'barbarino': False,\n",
        " u'barclay': False,\n",
        " u'barcode': False,\n",
        " u'barred': False,\n",
        " u'barrel': False,\n",
        " u'barren': False,\n",
        " u'barrymore': False,\n",
        " u'bartok': False,\n",
        " u'barton': False,\n",
        " u'bastad': False,\n",
        " u'batmans': False,\n",
        " u'battleships': False,\n",
        " u'bazooms': False,\n",
        " u'beaman': False,\n",
        " u'beatng': False,\n",
        " u'bedridden': False,\n",
        " u'beesley': False,\n",
        " u'behave': False,\n",
        " u'being': False,\n",
        " u'beings': False,\n",
        " u'bell': False,\n",
        " u'belloq': False,\n",
        " u'beloved': False,\n",
        " u'belt': False,\n",
        " u'benches': False,\n",
        " u'benefit': False,\n",
        " u'benigness': False,\n",
        " u'benson': False,\n",
        " u'beowolf': False,\n",
        " u'beristain': False,\n",
        " u'betraying': False,\n",
        " u'beware': False,\n",
        " u'beyer': False,\n",
        " u'bianca': False,\n",
        " u'bicentennial': False,\n",
        " u'biederman': False,\n",
        " u'bigscreen': False,\n",
        " u'bilingual': False,\n",
        " u'billboard': False,\n",
        " u'binding': False,\n",
        " u'binges': False,\n",
        " u'bios': False,\n",
        " u'birdie': False,\n",
        " u'blended': False,\n",
        " u'bliss': False,\n",
        " u'blizzard': False,\n",
        " u'blond': False,\n",
        " u'blonde': False,\n",
        " u'blunderheaded': False,\n",
        " u'blunted': False,\n",
        " u'boarded': False,\n",
        " u'boarder': False,\n",
        " u'boardroom': False,\n",
        " u'boatload': False,\n",
        " u'bogan': False,\n",
        " u'bogg': False,\n",
        " u'bogglingly': False,\n",
        " u'bogie': False,\n",
        " u'bogs': False,\n",
        " u'bohemians': False,\n",
        " u'boiled': False,\n",
        " u'boiler': False,\n",
        " u'bolstered': False,\n",
        " u'bongos': False,\n",
        " u'boondocks': False,\n",
        " u'boorman': False,\n",
        " u'boozed': False,\n",
        " u'bottom': True,\n",
        " u'bounce': False,\n",
        " u'bouncy': False,\n",
        " u'bouyant': False,\n",
        " u'boxing': False,\n",
        " u'bozo': False,\n",
        " u'braggarts': False,\n",
        " u'brainless': False,\n",
        " u'brassed': False,\n",
        " u'brazilian': False,\n",
        " u'breakfast': False,\n",
        " u'brides': False,\n",
        " u'briesewitz': False,\n",
        " u'bringing': False,\n",
        " u'broader': False,\n",
        " u'broiled': False,\n",
        " u'brotherhood': False,\n",
        " u'bruckheimer': False,\n",
        " u'brunette': False,\n",
        " u'brutally': False,\n",
        " u'bubble': False,\n",
        " u'budget': False,\n",
        " u'bueller': False,\n",
        " u'buffed': False,\n",
        " u'buffet': False,\n",
        " u'bukater': False,\n",
        " u'buliwyf': False,\n",
        " u'bulow': False,\n",
        " u'bummer': False,\n",
        " u'bumming': False,\n",
        " u'bunker': False,\n",
        " u'bureaucrat': False,\n",
        " u'burial': False,\n",
        " u'burley': False,\n",
        " u'bursting': False,\n",
        " u'busting': False,\n",
        " u'butchers': False,\n",
        " u'buzzsaw': False,\n",
        " u'byline': False,\n",
        " u'caan': False,\n",
        " u'cadence': False,\n",
        " u'caged': False,\n",
        " u'cages': False,\n",
        " u'cagey': False,\n",
        " u'caitlyn': False,\n",
        " u'calculation': False,\n",
        " u'cambodia': False,\n",
        " u'caned': False,\n",
        " u'canet': False,\n",
        " u'cannibal': False,\n",
        " u'cannibals': False,\n",
        " u'canning': False,\n",
        " u'canoeing': False,\n",
        " u'canran': False,\n",
        " u'capoeira': False,\n",
        " u'captivatingly': False,\n",
        " u'captive': False,\n",
        " u'caraciture': False,\n",
        " u'carelessly': False,\n",
        " u'carping': False,\n",
        " u'carrion': False,\n",
        " u'carters': False,\n",
        " u'cartman': False,\n",
        " u'caruso': False,\n",
        " u'cassette': False,\n",
        " u'casualness': False,\n",
        " u'catchiness': False,\n",
        " u'catchy': False,\n",
        " u'caused': False,\n",
        " u'causes': False,\n",
        " u'cavanaugh': False,\n",
        " u'cavity': False,\n",
        " u'cayman': False,\n",
        " u'ceasing': False,\n",
        " u'cecilia': False,\n",
        " u'celebrated': False,\n",
        " u'celebrates': False,\n",
        " u'centuries': False,\n",
        " u'cerebrally': False,\n",
        " u'cessation': False,\n",
        " u'chabert': False,\n",
        " u'chad': False,\n",
        " u'chain': False,\n",
        " u'chair': False,\n",
        " u'chap': False,\n",
        " u'chapelle': False,\n",
        " u'charade': False,\n",
        " u'charges': False,\n",
        " u'charmed': False,\n",
        " u'charnel': False,\n",
        " u'chat': False,\n",
        " u'chaz': False,\n",
        " u'cheaply': False,\n",
        " u'cheddar': False,\n",
        " u'cheekbones': False,\n",
        " u'cherbourg': False,\n",
        " u'childs': False,\n",
        " u'china': False,\n",
        " u'ching': False,\n",
        " u'chins': False,\n",
        " u'chirping': False,\n",
        " u'chlorine': False,\n",
        " u'choice': False,\n",
        " u'chomped': False,\n",
        " u'chopping': False,\n",
        " u'chorus': False,\n",
        " u'choudhury': False,\n",
        " u'chow': False,\n",
        " u'chrissy': False,\n",
        " u'chu': False,\n",
        " u'chucky': False,\n",
        " u'chyron': False,\n",
        " u'cigarettes': False,\n",
        " u'cincinnati': False,\n",
        " u'cinematic': False,\n",
        " u'circuitry': False,\n",
        " u'circumstances': False,\n",
        " u'civilian': False,\n",
        " u'civilians': False,\n",
        " u'clarified': False,\n",
        " u'clarkson': False,\n",
        " u'claustral': False,\n",
        " u'cleon': False,\n",
        " u'cleverness': False,\n",
        " u'clicked': False,\n",
        " u'clients': False,\n",
        " u'climb': False,\n",
        " u'climber': False,\n",
        " u'climbs': False,\n",
        " u'clock': False,\n",
        " u'cloris': False,\n",
        " u'clumsiness': False,\n",
        " u'coachmen': False,\n",
        " u'coaxed': False,\n",
        " u'coaxing': False,\n",
        " u'cobblers': False,\n",
        " u'codename': False,\n",
        " u'colleague': False,\n",
        " u'collectively': False,\n",
        " u'collided': False,\n",
        " u'collides': False,\n",
        " u'colonists': False,\n",
        " u'colorfully': False,\n",
        " u'colorized': False,\n",
        " u'combatants': False,\n",
        " u'comedy': False,\n",
        " u'comely': False,\n",
        " u'comically': False,\n",
        " u'commensurately': False,\n",
        " u'committing': False,\n",
        " u'company': False,\n",
        " u'comparitive': False,\n",
        " u'compass': False,\n",
        " u'competed': False,\n",
        " u'complexly': False,\n",
        " u'complicated': False,\n",
        " u'complicates': False,\n",
        " u'complications': False,\n",
        " u'comprehensible': False,\n",
        " u'compton': False,\n",
        " u'concentrated': False,\n",
        " u'concentrates': False,\n",
        " u'conceptions': False,\n",
        " u'conceptually': False,\n",
        " u'conciousness': False,\n",
        " u'concurrence': False,\n",
        " u'condolences': False,\n",
        " u'confidence': False,\n",
        " u'confrontatory': False,\n",
        " u'confronts': False,\n",
        " u'congratulations': False,\n",
        " u'connection': False,\n",
        " u'conscious': False,\n",
        " u'conscription': False,\n",
        " u'consenting': False,\n",
        " u'considerable': False,\n",
        " u'considerably': False,\n",
        " u'consoles': False,\n",
        " u'continents': False,\n",
        " u'contrastingly': False,\n",
        " u'controversies': False,\n",
        " u'controversy': False,\n",
        " u'convincingly': False,\n",
        " u'cooking': False,\n",
        " u'cooks': False,\n",
        " u'coolness': False,\n",
        " u'copious': False,\n",
        " u'copulate': False,\n",
        " u'copyrighted': False,\n",
        " u'cormack': False,\n",
        " u'corporate': False,\n",
        " u'corrected': False,\n",
        " u'corrects': False,\n",
        " u'corsucant': False,\n",
        " u'couple': False,\n",
        " u'courageously': False,\n",
        " u'courier': False,\n",
        " u'courses': False,\n",
        " u'courtesans': False,\n",
        " u'crackin': False,\n",
        " u'crackled': False,\n",
        " u'crackles': False,\n",
        " u'cranked': False,\n",
        " u'crashlands': False,\n",
        " u'crater': False,\n",
        " u'crates': False,\n",
        " u'cream': False,\n",
        " u'crescendo': False,\n",
        " u'critter': False,\n",
        " u'cronenberg': False,\n",
        " u'crook': False,\n",
        " u'crookier': False,\n",
        " u'crooned': False,\n",
        " u'crossroads': False,\n",
        " u'crotch': False,\n",
        " u'crowbar': False,\n",
        " u'crowd': False,\n",
        " u'crowdpleasing': False,\n",
        " u'crowe': False,\n",
        " u'crown': False,\n",
        " u'crowned': False,\n",
        " u'cuffs': False,\n",
        " u'cuisine': False,\n",
        " u'cultivating': False,\n",
        " u'cusack': False,\n",
        " u'customer': False,\n",
        " u'cynics': False,\n",
        " u'czech': False,\n",
        " u'dahlings': False,\n",
        " u'damian': False,\n",
        " u'damning': False,\n",
        " u'damnit': False,\n",
        " u'dampens': False,\n",
        " u'dancefloor': False,\n",
        " u'dangerfield': False,\n",
        " u'daqughter': False,\n",
        " u'dared': False,\n",
        " u'darnell': False,\n",
        " u'dave': False,\n",
        " u'davidovitch': False,\n",
        " u'deadpan': False,\n",
        " u'debilitating': False,\n",
        " u'decapitation': False,\n",
        " u'decorating': False,\n",
        " u'deductions': False,\n",
        " u'defeatist': False,\n",
        " u'defensively': False,\n",
        " u'definition': False,\n",
        " u'deflate': False,\n",
        " u'deflection': False,\n",
        " u'defy': False,\n",
        " u'delectably': False,\n",
        " u'delicately': False,\n",
        " u'deloreans': False,\n",
        " u'delroy': False,\n",
        " u'demarco': False,\n",
        " u'demeaning': False,\n",
        " u'demolition': False,\n",
        " u'denny': False,\n",
        " u'dentures': False,\n",
        " u'depravity': False,\n",
        " u'derivative': False,\n",
        " u'deserved': False,\n",
        " u'deserves': False,\n",
        " u'designing': False,\n",
        " u'desiring': False,\n",
        " u'despised': False,\n",
        " u'despises': False,\n",
        " u'despite': True,\n",
        " u'detectives': False,\n",
        " u'detested': False,\n",
        " u'dethroned': False,\n",
        " u'dethrones': False,\n",
        " u'deuteronomy': False,\n",
        " u'devito': False,\n",
        " u'devoured': False,\n",
        " u'dialogueless': False,\n",
        " u'diapers': False,\n",
        " u'dick_': False,\n",
        " u'dickinson': False,\n",
        " u'dicks': False,\n",
        " u'didi': False,\n",
        " u'didn': True,\n",
        " u'diggler': False,\n",
        " u'dilbert': False,\n",
        " u'dilemnas': False,\n",
        " u'dimension': False,\n",
        " u'diminishing': False,\n",
        " u'dinosaurs': False,\n",
        " u'directs': False,\n",
        " u'dirtier': False,\n",
        " u'dirty': False,\n",
        " u'disaster_': False,\n",
        " u'disasterous': False,\n",
        " u'disasters': False,\n",
        " u'discerning': False,\n",
        " u'disconnect': False,\n",
        " u'disdains': False,\n",
        " u'disengaging': False,\n",
        " u'disfigured': False,\n",
        " u'disgrace': False,\n",
        " u'disgraced': False,\n",
        " u'dishearteningly': False,\n",
        " u'disheveled': False,\n",
        " u'disintegrated': False,\n",
        " u'disjointed': False,\n",
        " u'dismantling': False,\n",
        " u'dismissed': False,\n",
        " u'dismisses': False,\n",
        " u'disobeying': False,\n",
        " u'dispite': False,\n",
        " u'displays': False,\n",
        " u'distractedness': False,\n",
        " u'distraction': False,\n",
        " u'disturbed': False,\n",
        " u'ditching': False,\n",
        " u'diverse': False,\n",
        " u'diverted': False,\n",
        " u'divine': False,\n",
        " u'diving': False,\n",
        " u'dna': False,\n",
        " u'doctoring': False,\n",
        " u'documentarian': False,\n",
        " u'dodie': False,\n",
        " u'dolly': False,\n",
        " u'dolph': False,\n",
        " u'domed': False,\n",
        " u'doom': False,\n",
        " u'door': False,\n",
        " u'doos': False,\n",
        " u'doreen': False,\n",
        " u'doubts': False,\n",
        " u'dowling': False,\n",
        " u'downloading': False,\n",
        " u'dozen': False,\n",
        " u'drafted': False,\n",
        " u'dragonflies': False,\n",
        " u'drilling': False,\n",
        " u'droning': False,\n",
        " u'droppingly': False,\n",
        " u'droves': False,\n",
        " u'dryland': False,\n",
        " u'dubious': False,\n",
        " u'dues': False,\n",
        " u'duet': False,\n",
        " u'dumbest': False,\n",
        " u'duper': False,\n",
        " u'dusty': False,\n",
        " u'dwells': False,\n",
        " u'dwindling': False,\n",
        " u'dyed': False,\n",
        " u'dyer': False,\n",
        " u'dynamics': False,\n",
        " u'dysfuntion': False,\n",
        " u'eddie': False,\n",
        " u'edgecomb': False,\n",
        " u'edged': False,\n",
        " u'edges': False,\n",
        " u'edouard': False,\n",
        " u'eduard': False,\n",
        " u'educational': False,\n",
        " u'eery': False,\n",
        " u'effects': False,\n",
        " u'effortlessly': False,\n",
        " u'eggar': False,\n",
        " u'egotistical': False,\n",
        " u'eighteen': False,\n",
        " u'elders': False,\n",
        " u'eleven': False,\n",
        " u'elgar': False,\n",
        " u'elisa': False,\n",
        " u'ellen': False,\n",
        " u'elmo': False,\n",
        " u'emanating': False,\n",
        " u'embark': False,\n",
        " u'embrassment': False,\n",
        " u'emergence': False,\n",
        " u'emergency': False,\n",
        " u'emerich': False,\n",
        " u'emmylou': False,\n",
        " u'emotion': False,\n",
        " u'employ': False,\n",
        " u'encourage': False,\n",
        " u'engaged': False,\n",
        " u'engages': False,\n",
        " u'engagingly': False,\n",
        " u'enjoys': False,\n",
        " u'enliven': False,\n",
        " u'enrols': False,\n",
        " u'entering': False,\n",
        " u'enthrall': False,\n",
        " u'episodes': False,\n",
        " u'eradicate': False,\n",
        " u'erica': False,\n",
        " u'erich': False,\n",
        " u'ernie': False,\n",
        " u'errors': False,\n",
        " u'espouses': False,\n",
        " u'essays': False,\n",
        " u'estimate': False,\n",
        " u'ethnocentric': False,\n",
        " u'euphegenia': False,\n",
        " u'everclear': False,\n",
        " u'everytime': False,\n",
        " u'exact': True,\n",
        " u'exaggerations': False,\n",
        " u'exasperating': False,\n",
        " u'excising': False,\n",
        " u'excitable': False,\n",
        " u'exclaimed': False,\n",
        " u'excuses': False,\n",
        " u'existential': False,\n",
        " u'existentialist': False,\n",
        " u'expanded': False,\n",
        " u'experience': False,\n",
        " u'explainable': False,\n",
        " u'explosions': False,\n",
        " u'exponential': False,\n",
        " u'expound': False,\n",
        " u'expressively': False,\n",
        " u'extend': False,\n",
        " u'extent': False,\n",
        " u'exuberantly': False,\n",
        " u'eyelids': False,\n",
        " u'f': False,\n",
        " u'fabric': False,\n",
        " u'faceted': False,\n",
        " u'faded': False,\n",
        " u'fades': False,\n",
        " u'fakeouts': False,\n",
        " u'fakery': False,\n",
        " u'falstaff': False,\n",
        " u'familar': False,\n",
        " u'fanatasies': False,\n",
        " u'farsical': False,\n",
        " u'faulkner': False,\n",
        " u'fearlessly': False,\n",
        " u'feasibility': False,\n",
        " u'featherbrained': False,\n",
        " u'featherweight': False,\n",
        " u'fecal': False,\n",
        " u'fedoras': False,\n",
        " u'feeling': True,\n",
        " u'festivities': False,\n",
        " u'feuds': False,\n",
        " u'fewer': False,\n",
        " u'fifteen': False,\n",
        " u'fig': False,\n",
        " u'filmcritic': False,\n",
        " u'fin': False,\n",
        " u'finklestein': False,\n",
        " u'firorina': False,\n",
        " u'firth': False,\n",
        " u'fisherman': False,\n",
        " u'fistfights': False,\n",
        " u'fit': False,\n",
        " u'fix': False,\n",
        " u'flashback': False,\n",
        " u'fleischer': False,\n",
        " u'flipped': False,\n",
        " u'flipper': False,\n",
        " u'flits': False,\n",
        " u'floated': False,\n",
        " u'flooded': False,\n",
        " u'flotsam': False,\n",
        " u'flowing': False,\n",
        " u'flyboy': False,\n",
        " u'followed': False,\n",
        " u'follower': False,\n",
        " u'following': False,\n",
        " u'fondled': False,\n",
        " u'fonzie': False,\n",
        " u'foregin': False,\n",
        " u'foregrounds': False,\n",
        " u'foreheads': False,\n",
        " u'formed': False,\n",
        " u'former': False,\n",
        " u'formulates': False,\n",
        " u'fornicators': False,\n",
        " u'forrester': False,\n",
        " u'forwarned': False,\n",
        " u'francesca': False,\n",
        " u'francesco': False,\n",
        " u'francois': False,\n",
        " u'freehold': False,\n",
        " u'freelance': False,\n",
        " u'frenchmen': False,\n",
        " u'frewer': False,\n",
        " u'friction': False,\n",
        " u'frieberg': False,\n",
        " u'friend': False,\n",
        " u'friggin': False,\n",
        " u'frighteners': False,\n",
        " u'frights': False,\n",
        " u'frizzi': False,\n",
        " u'frizzy': False,\n",
        " u'fro': False,\n",
        " u'frontgate': False,\n",
        " u'fruity': False,\n",
        " u'fry': False,\n",
        " u'fueled': False,\n",
        " u'fugitives': False,\n",
        " u'full': False,\n",
        " u'funicello': False,\n",
        " u'gadget': False,\n",
        " u'gallagher': False,\n",
        " u'gardenia': False,\n",
        " u'gases': False,\n",
        " u'gavan': False,\n",
        " u'genesis': False,\n",
        " u'genieveve': False,\n",
        " u'geography': False,\n",
        " u'gershon': False,\n",
        " u'getaway': False,\n",
        " u'ghostbusters': False,\n",
        " u'gigolo': False,\n",
        " u'gisbourne': False,\n",
        " u'gladys': False,\n",
        " u'glamor': False,\n",
        " u'gleam': False,\n",
        " u'glean': False,\n",
        " u'glenne': False,\n",
        " u'gloating': False,\n",
        " u'globally': False,\n",
        " u'gloomy': False,\n",
        " u'glowers': False,\n",
        " u'goddamn': False,\n",
        " u'goggins': False,\n",
        " u'golden': False,\n",
        " u'goodman': False,\n",
        " u'goody': False,\n",
        " u'gooey': False,\n",
        " u'goofing': False,\n",
        " u'gopher': False,\n",
        " u'goregeous': False,\n",
        " u'gorman': False,\n",
        " u'gown': False,\n",
        " u'graffiti': False,\n",
        " u'grandma': False,\n",
        " u'grapples': False,\n",
        " u'grasping': False,\n",
        " u'gratuitous': False,\n",
        " u'greatness': False,\n",
        " u'greener': False,\n",
        " u'greenwald': False,\n",
        " u'gregor': False,\n",
        " u'gripe': False,\n",
        " u'grooms': False,\n",
        " u'grope': False,\n",
        " u'grotesqe': False,\n",
        " u'grounded': False,\n",
        " u'grueling': False,\n",
        " u'guamo': False,\n",
        " u'guarded': False,\n",
        " u'guarding': False,\n",
        " u'guiler': False,\n",
        " u'guitry': False,\n",
        " u'gunshot': False,\n",
        " u'gypsies': False,\n",
        " u'hab': False,\n",
        " u'hackwork': False,\n",
        " u'had': False,\n",
        " u'hag': False,\n",
        " u'hai': False,\n",
        " u'hairdresser': False,\n",
        " u'hal': False,\n",
        " u'hallucinogenic': False,\n",
        " u'ham': False,\n",
        " u'han': False,\n",
        " u'handcuffs': False,\n",
        " u'hanging': False,\n",
        " u'hap': False,\n",
        " u'haplessly': False,\n",
        " u'har': False,\n",
        " u'harassing': False,\n",
        " u'harmonious': False,\n",
        " u'harnessed': False,\n",
        " u'harve': False,\n",
        " u'harvests': False,\n",
        " u'has': True,\n",
        " u'hash': False,\n",
        " u'haskin': False,\n",
        " u'hasn': False,\n",
        " u'hass': False,\n",
        " u'hat': False,\n",
        " u'hatchette': False,\n",
        " u'haunt': False,\n",
        " u'hav': False,\n",
        " u'haviland': False,\n",
        " u'haw': False,\n",
        " u'hawaiian': False,\n",
        " u'hawkes': False,\n",
        " u'hay': False,\n",
        " u'haystack': False,\n",
        " u'headset': False,\n",
        " u'healed': False,\n",
        " u'healer': False,\n",
        " u'heartedness': False,\n",
        " u'heavyweight': False,\n",
        " u'heebie': False,\n",
        " u'heirloom': False,\n",
        " u'henceforth': False,\n",
        " u'hennings': False,\n",
        " u'henpecked': False,\n",
        " u'henreid': False,\n",
        " u'hercules': False,\n",
        " u'herzfeld': False,\n",
        " u'hessian': False,\n",
        " u'hickey': False,\n",
        " u'hideaway': False,\n",
        " u'himalayas': False,\n",
        " u'hockley': False,\n",
        " u'hofstra': False,\n",
        " u'holdover': False,\n",
        " u'homogeneity': False,\n",
        " u'hone': False,\n",
        " u'honeymoon': False,\n",
        " u'hong': False,\n",
        " u'honk': False,\n",
        " u'hoosiers': False,\n",
        " u'hopkins': False,\n",
        " u'hormones': False,\n",
        " u'horndog': False,\n",
        " u'horsing': False,\n",
        " u'hotcakes': False,\n",
        " u'hounded': False,\n",
        " u'hounds': False,\n",
        " u'houseman': False,\n",
        " u'houston': False,\n",
        " u'hoyle': False,\n",
        " u'huddled': False,\n",
        " u'huge': False,\n",
        " u'hugh': False,\n",
        " u'hugo': False,\n",
        " u'hugs': False,\n",
        " u'humbled': False,\n",
        " u'humbler': False,\n",
        " u'humpback': False,\n",
        " u'huns': False,\n",
        " u'hurricaine': False,\n",
        " u'hypnotist': False,\n",
        " u'hypsy': False,\n",
        " u'ideally': False,\n",
        " u'idle': False,\n",
        " u'idly': False,\n",
        " u'idols': False,\n",
        " u'igniting': False,\n",
        " u'illness': False,\n",
        " u'imagined': False,\n",
        " u'imagines': False,\n",
        " u'impacted': False,\n",
        " u'impactful': False,\n",
        " u'impaling': False,\n",
        " u'implicit': False,\n",
        " u'impressions': False,\n",
        " u'improvisationaly': False,\n",
        " u'inanimate': False,\n",
        " u'incense': False,\n",
        " u'incongruent': False,\n",
        " u'inconsistent': False,\n",
        " u'indicative': False,\n",
        " u'indifference': False,\n",
        " u'indigenous': False,\n",
        " u'indiscretion': False,\n",
        " u'individuals': False,\n",
        " u'ineffable': False,\n",
        " u'infamous': False,\n",
        " u'infect': False,\n",
        " u'influence': False,\n",
        " u'influx': False,\n",
        " u'informants': False,\n",
        " u'ingrained': False,\n",
        " u'ingrid': False,\n",
        " u'inhuman': False,\n",
        " u'initation': False,\n",
        " u'initiate': False,\n",
        " u'initiated': False,\n",
        " u'initiation': False,\n",
        " u'innuendos': False,\n",
        " u'inquired': False,\n",
        " u'inquires': False,\n",
        " u'insane': False,\n",
        " u'insecurity': False,\n",
        " u'inserting': False,\n",
        " u'insight': True,\n",
        " u'instability': False,\n",
        " u'installed': False,\n",
        " u'insubordinate': False,\n",
        " u'insubordination': False,\n",
        " u'integrating': False,\n",
        " u'intelligent': False,\n",
        " u'intend': False,\n",
        " u'intended': False,\n",
        " u'intent': False,\n",
        " u'interactivity': False,\n",
        " u'internalize': False,\n",
        " u'interned': False,\n",
        " u'internet': False,\n",
        " u'interogation': False,\n",
        " u'interviewed': False,\n",
        " u'intestines': False,\n",
        " u'into': True,\n",
        " u'intoxicating': False,\n",
        " u'intrepid': False,\n",
        " u'introspection': False,\n",
        " u'inventively': False,\n",
        " u'investment': False,\n",
        " u'invite': False,\n",
        " u'ira': False,\n",
        " u'ire': False,\n",
        " u'irs': False,\n",
        " u'isaac': False,\n",
        " u'isaak': False,\n",
        " u'isacsson': False,\n",
        " u'islamic': False,\n",
        " u'israel': False,\n",
        " u'issac': False,\n",
        " u'ivey': False,\n",
        " u'jacki': False,\n",
        " u'jacks': False,\n",
        " u'janusz': False,\n",
        " u'jargon': False,\n",
        " u'jere': False,\n",
        " u'jerk': False,\n",
        " u'jessalyn': False,\n",
        " u'jetsons': False,\n",
        " u'jewels': False,\n",
        " u'jia': False,\n",
        " u'jiang': False,\n",
        " u'jim': False,\n",
        " u'jip': False,\n",
        " u'jitters': False,\n",
        " u'jittery': False,\n",
        " u'joely': False,\n",
        " u'johnston': False,\n",
        " u'jonnie': False,\n",
        " u'jovivich': False,\n",
        " u'jovovich': False,\n",
        " u'jubilantly': False,\n",
        " u'juergen': False,\n",
        " u'jugs': False,\n",
        " u'justly': False,\n",
        " u'k': False,\n",
        " u'kaminski': False,\n",
        " u'kaminsky': False,\n",
        " u'kasinsky': False,\n",
        " u'katie': False,\n",
        " u'keeble': False,\n",
        " u'kensington': False,\n",
        " u'kethcum': False,\n",
        " u'kfc': False,\n",
        " u'kids': True,\n",
        " u'kihlstedt': False,\n",
        " u'kilgore': False,\n",
        " u'kindergartner': False,\n",
        " u'kinkiness': False,\n",
        " u'knocked': False,\n",
        " u'knowingly': False,\n",
        " u'koppelman': False,\n",
        " u'kret': False,\n",
        " u'krippendorf': False,\n",
        " u'kriss': False,\n",
        " u'kroon': False,\n",
        " u'kuei': False,\n",
        " u'kyzynski': False,\n",
        " u'lackies': False,\n",
        " u'lads': False,\n",
        " u'lameness': False,\n",
        " u'lana': False,\n",
        " u'land': False,\n",
        " u'lane': False,\n",
        " u'lang': False,\n",
        " u'lanky': False,\n",
        " u'lapping': False,\n",
        " u'lash': False,\n",
        " u'lass': False,\n",
        " u'lasso': False,\n",
        " u'last': False,\n",
        " u'laughton': False,\n",
        " u'lavishness': False,\n",
        " u'leadership': False,\n",
        " u'learn': False,\n",
        " u'leary': False,\n",
        " u'leeanne': False,\n",
        " u'legitimately': False,\n",
        " u'leia': False,\n",
        " u'leit': False,\n",
        " u'lengthen': False,\n",
        " u'leonardi': False,\n",
        " u'leonardo': False,\n",
        " u'liaisons': False,\n",
        " u'lick': False,\n",
        " u'liebes': False,\n",
        " u'lifeline': False,\n",
        " ...}"
       ]
      }
     ],
     "prompt_number": 29
    },
    {
     "cell_type": "code",
     "collapsed": false,
     "input": [
      "import random\n",
      "random.shuffle(documents)"
     ],
     "language": "python",
     "metadata": {},
     "outputs": [],
     "prompt_number": 36
    },
    {
     "cell_type": "code",
     "collapsed": false,
     "input": [
      "featuressets = [(document_features(d), c) for (d,c) in documents]\n",
      "train_set, test_set = featuressets[100:], featuressets[:100]\n",
      "clf = nltk.NaiveBayesClassifier.train(train_set)"
     ],
     "language": "python",
     "metadata": {},
     "outputs": [],
     "prompt_number": 37
    },
    {
     "cell_type": "code",
     "collapsed": false,
     "input": [
      "nltk.classify.accuracy(clf, test_set)"
     ],
     "language": "python",
     "metadata": {},
     "outputs": [
      {
       "metadata": {},
       "output_type": "pyout",
       "prompt_number": 41,
       "text": [
        "0.71"
       ]
      }
     ],
     "prompt_number": 41
    },
    {
     "cell_type": "code",
     "collapsed": false,
     "input": [],
     "language": "python",
     "metadata": {},
     "outputs": []
    }
   ],
   "metadata": {}
  }
 ]
}