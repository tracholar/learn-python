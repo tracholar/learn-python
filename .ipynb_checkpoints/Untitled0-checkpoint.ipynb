{
 "metadata": {
  "name": "",
  "signature": "sha256:7c5373b1571b85b631b4456523447984740d53d8da968710cbb1c276553ad513"
 },
 "nbformat": 3,
 "nbformat_minor": 0,
 "worksheets": []
}